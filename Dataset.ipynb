{
 "cells": [
  {
   "cell_type": "code",
   "execution_count": null,
   "id": "95c77d7d",
   "metadata": {},
   "outputs": [],
   "source": [
    "class Recipe:\n",
    "    \n",
    "    def __init__(self, recipe_id):\n",
    "        self.id = recipe_id\n",
    "        self.questions_dict = dict()\n",
    "        self.answers_dict = dict()\n",
    "    \n",
    "\n",
    "\n",
    "with open(\"text_annotation.csv\") as f:\n",
    "    recipes = []\n",
    "    for line in f:\n",
    "        if line[0] == \"#\":        \n",
    "            if \"newdoc\" in line:\n",
    "                recipe_id = line.split(\"=\")[-1].strip()\n",
    "                recipe = Recipe(recipe_id)\n",
    "                recipes.append(recipe)\n",
    "            if \"question\" in line:\n",
    "                line_split = line.split(\"=\")\n",
    "                question_id = line_split[0].split()[-1].strip()\n",
    "                question_text = line_split[-1].strip()\n",
    "                recipe.questions_dict[question_id] = question_text\n",
    "            if \"answer\" in line:\n",
    "                line_split = line.split(\"=\")\n",
    "                answer_id = line_split[0].split()[-1].strip()\n",
    "                answer_text = line_split[-1].strip()\n",
    "                recipe.answers_dict[answer_id] = answer_text\n",
    "            \n",
    "    "
   ]
  }
 ],
 "metadata": {
  "kernelspec": {
   "display_name": "Python 3 (ipykernel)",
   "language": "python",
   "name": "python3"
  },
  "language_info": {
   "codemirror_mode": {
    "name": "ipython",
    "version": 3
   },
   "file_extension": ".py",
   "mimetype": "text/x-python",
   "name": "python",
   "nbconvert_exporter": "python",
   "pygments_lexer": "ipython3",
   "version": "3.8.11"
  }
 },
 "nbformat": 4,
 "nbformat_minor": 5
}
